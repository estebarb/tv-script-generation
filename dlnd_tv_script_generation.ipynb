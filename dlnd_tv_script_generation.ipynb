{
 "cells": [
  {
   "cell_type": "markdown",
   "metadata": {},
   "source": [
    "# TV Script Generation\n",
    "In this project, you'll generate your own [Simpsons](https://en.wikipedia.org/wiki/The_Simpsons) TV scripts using RNNs.  You'll be using part of the [Simpsons dataset](https://www.kaggle.com/wcukierski/the-simpsons-by-the-data) of scripts from 27 seasons.  The Neural Network you'll build will generate a new TV script for a scene at [Moe's Tavern](https://simpsonswiki.com/wiki/Moe's_Tavern).\n",
    "## Get the Data\n",
    "The data is already provided for you.  You'll be using a subset of the original dataset.  It consists of only the scenes in Moe's Tavern.  This doesn't include other versions of the tavern, like \"Moe's Cavern\", \"Flaming Moe's\", \"Uncle Moe's Family Feed-Bag\", etc.."
   ]
  },
  {
   "cell_type": "code",
   "execution_count": 1,
   "metadata": {
    "collapsed": true
   },
   "outputs": [],
   "source": [
    "\"\"\"\n",
    "DON'T MODIFY ANYTHING IN THIS CELL\n",
    "\"\"\"\n",
    "import helper\n",
    "\n",
    "data_dir = './data/simpsons/moes_tavern_lines.txt'\n",
    "text = helper.load_data(data_dir)\n",
    "# Ignore notice, since we don't use it for analysing the data\n",
    "text = text[81:]"
   ]
  },
  {
   "cell_type": "markdown",
   "metadata": {},
   "source": [
    "## Explore the Data\n",
    "Play around with `view_sentence_range` to view different parts of the data."
   ]
  },
  {
   "cell_type": "code",
   "execution_count": 2,
   "metadata": {},
   "outputs": [
    {
     "name": "stdout",
     "output_type": "stream",
     "text": [
      "Dataset Stats\n",
      "Roughly the number of unique words: 11492\n",
      "Number of scenes: 262\n",
      "Average number of sentences in each scene: 15.248091603053435\n",
      "Number of lines: 4257\n",
      "Average number of words in each line: 11.50434578341555\n",
      "\n",
      "The sentences 0 to 10:\n",
      "Moe_Szyslak: (INTO PHONE) Moe's Tavern. Where the elite meet to drink.\n",
      "Bart_Simpson: Eh, yeah, hello, is Mike there? Last name, Rotch.\n",
      "Moe_Szyslak: (INTO PHONE) Hold on, I'll check. (TO BARFLIES) Mike Rotch. Mike Rotch. Hey, has anybody seen Mike Rotch, lately?\n",
      "Moe_Szyslak: (INTO PHONE) Listen you little puke. One of these days I'm gonna catch you, and I'm gonna carve my name on your back with an ice pick.\n",
      "Moe_Szyslak: What's the matter Homer? You're not your normal effervescent self.\n",
      "Homer_Simpson: I got my problems, Moe. Give me another one.\n",
      "Moe_Szyslak: Homer, hey, you should not drink to forget your problems.\n",
      "Barney_Gumble: Yeah, you should only drink to enhance your social skills.\n",
      "\n",
      "\n"
     ]
    }
   ],
   "source": [
    "view_sentence_range = (0, 10)\n",
    "\n",
    "\"\"\"\n",
    "DON'T MODIFY ANYTHING IN THIS CELL\n",
    "\"\"\"\n",
    "import numpy as np\n",
    "\n",
    "print('Dataset Stats')\n",
    "print('Roughly the number of unique words: {}'.format(len({word: None for word in text.split()})))\n",
    "scenes = text.split('\\n\\n')\n",
    "print('Number of scenes: {}'.format(len(scenes)))\n",
    "sentence_count_scene = [scene.count('\\n') for scene in scenes]\n",
    "print('Average number of sentences in each scene: {}'.format(np.average(sentence_count_scene)))\n",
    "\n",
    "sentences = [sentence for scene in scenes for sentence in scene.split('\\n')]\n",
    "print('Number of lines: {}'.format(len(sentences)))\n",
    "word_count_sentence = [len(sentence.split()) for sentence in sentences]\n",
    "print('Average number of words in each line: {}'.format(np.average(word_count_sentence)))\n",
    "\n",
    "print()\n",
    "print('The sentences {} to {}:'.format(*view_sentence_range))\n",
    "print('\\n'.join(text.split('\\n')[view_sentence_range[0]:view_sentence_range[1]]))"
   ]
  },
  {
   "cell_type": "markdown",
   "metadata": {},
   "source": [
    "## Implement Preprocessing Functions\n",
    "The first thing to do to any dataset is preprocessing.  Implement the following preprocessing functions below:\n",
    "- Lookup Table\n",
    "- Tokenize Punctuation\n",
    "\n",
    "### Lookup Table\n",
    "To create a word embedding, you first need to transform the words to ids.  In this function, create two dictionaries:\n",
    "- Dictionary to go from the words to an id, we'll call `vocab_to_int`\n",
    "- Dictionary to go from the id to word, we'll call `int_to_vocab`\n",
    "\n",
    "Return these dictionaries in the following tuple `(vocab_to_int, int_to_vocab)`"
   ]
  },
  {
   "cell_type": "code",
   "execution_count": 3,
   "metadata": {},
   "outputs": [
    {
     "name": "stdout",
     "output_type": "stream",
     "text": [
      "Tests Passed\n"
     ]
    }
   ],
   "source": [
    "import numpy as np\n",
    "import problem_unittests as tests\n",
    "\n",
    "def create_lookup_tables(text):\n",
    "    \"\"\"\n",
    "    Create lookup tables for vocabulary\n",
    "    :param text: The text of tv scripts split into words\n",
    "    :return: A tuple of dicts (vocab_to_int, int_to_vocab)\n",
    "    \"\"\"\n",
    "    value = 1\n",
    "    vocab_to_int = {}\n",
    "    int_to_vocab = {}\n",
    "    words = set(text)\n",
    "    for w in list(words):\n",
    "        vocab_to_int[w] = value\n",
    "        int_to_vocab[value] = w\n",
    "        value += 1\n",
    "        \n",
    "    # TODO: Implement Function\n",
    "    return (vocab_to_int, int_to_vocab)\n",
    "\n",
    "\n",
    "\"\"\"\n",
    "DON'T MODIFY ANYTHING IN THIS CELL THAT IS BELOW THIS LINE\n",
    "\"\"\"\n",
    "tests.test_create_lookup_tables(create_lookup_tables)"
   ]
  },
  {
   "cell_type": "markdown",
   "metadata": {},
   "source": [
    "### Tokenize Punctuation\n",
    "We'll be splitting the script into a word array using spaces as delimiters.  However, punctuations like periods and exclamation marks make it hard for the neural network to distinguish between the word \"bye\" and \"bye!\".\n",
    "\n",
    "Implement the function `token_lookup` to return a dict that will be used to tokenize symbols like \"!\" into \"||Exclamation_Mark||\".  Create a dictionary for the following symbols where the symbol is the key and value is the token:\n",
    "- Period ( . )\n",
    "- Comma ( , )\n",
    "- Quotation Mark ( \" )\n",
    "- Semicolon ( ; )\n",
    "- Exclamation mark ( ! )\n",
    "- Question mark ( ? )\n",
    "- Left Parentheses ( ( )\n",
    "- Right Parentheses ( ) )\n",
    "- Dash ( -- )\n",
    "- Return ( \\n )\n",
    "\n",
    "This dictionary will be used to token the symbols and add the delimiter (space) around it.  This separates the symbols as it's own word, making it easier for the neural network to predict on the next word. Make sure you don't use a token that could be confused as a word. Instead of using the token \"dash\", try using something like \"||dash||\"."
   ]
  },
  {
   "cell_type": "code",
   "execution_count": 4,
   "metadata": {},
   "outputs": [
    {
     "name": "stdout",
     "output_type": "stream",
     "text": [
      "Tests Passed\n"
     ]
    }
   ],
   "source": [
    "def token_lookup():\n",
    "    \"\"\"\n",
    "    Generate a dict to turn punctuation into a token.\n",
    "    :return: Tokenize dictionary where the key is the punctuation and the value is the token\n",
    "    \"\"\"\n",
    "    # TODO: Implement Function\n",
    "    return {\n",
    "        '.': '<period>',\n",
    "        ',': '<comma>',\n",
    "        '\"': '<quot>',\n",
    "        ';': '<semicolon>',\n",
    "        '!': '<exclamation_mark>',\n",
    "        '?': '<question_mark>',\n",
    "        '(': '<left_paren>',\n",
    "        ')': '<right_paren>',\n",
    "        '--': '<dash>',\n",
    "        '\\n': '<return>',\n",
    "    }\n",
    "\n",
    "\"\"\"\n",
    "DON'T MODIFY ANYTHING IN THIS CELL THAT IS BELOW THIS LINE\n",
    "\"\"\"\n",
    "tests.test_tokenize(token_lookup)"
   ]
  },
  {
   "cell_type": "markdown",
   "metadata": {},
   "source": [
    "## Preprocess all the data and save it\n",
    "Running the code cell below will preprocess all the data and save it to file."
   ]
  },
  {
   "cell_type": "code",
   "execution_count": 5,
   "metadata": {
    "collapsed": true
   },
   "outputs": [],
   "source": [
    "\"\"\"\n",
    "DON'T MODIFY ANYTHING IN THIS CELL\n",
    "\"\"\"\n",
    "# Preprocess Training, Validation, and Testing Data\n",
    "helper.preprocess_and_save_data(data_dir, token_lookup, create_lookup_tables)"
   ]
  },
  {
   "cell_type": "markdown",
   "metadata": {},
   "source": [
    "# Check Point\n",
    "This is your first checkpoint. If you ever decide to come back to this notebook or have to restart the notebook, you can start from here. The preprocessed data has been saved to disk."
   ]
  },
  {
   "cell_type": "code",
   "execution_count": 6,
   "metadata": {
    "collapsed": true
   },
   "outputs": [],
   "source": [
    "\"\"\"\n",
    "DON'T MODIFY ANYTHING IN THIS CELL\n",
    "\"\"\"\n",
    "import helper\n",
    "import numpy as np\n",
    "import problem_unittests as tests\n",
    "\n",
    "int_text, vocab_to_int, int_to_vocab, token_dict = helper.load_preprocess()"
   ]
  },
  {
   "cell_type": "markdown",
   "metadata": {},
   "source": [
    "## Build the Neural Network\n",
    "You'll build the components necessary to build a RNN by implementing the following functions below:\n",
    "- get_inputs\n",
    "- get_init_cell\n",
    "- get_embed\n",
    "- build_rnn\n",
    "- build_nn\n",
    "- get_batches\n",
    "\n",
    "### Check the Version of TensorFlow and Access to GPU"
   ]
  },
  {
   "cell_type": "code",
   "execution_count": 7,
   "metadata": {},
   "outputs": [
    {
     "name": "stdout",
     "output_type": "stream",
     "text": [
      "TensorFlow Version: 1.0.0\n",
      "Default GPU Device: /gpu:0\n"
     ]
    }
   ],
   "source": [
    "\"\"\"\n",
    "DON'T MODIFY ANYTHING IN THIS CELL\n",
    "\"\"\"\n",
    "from distutils.version import LooseVersion\n",
    "import warnings\n",
    "import tensorflow as tf\n",
    "\n",
    "# Check TensorFlow Version\n",
    "assert LooseVersion(tf.__version__) >= LooseVersion('1.0'), 'Please use TensorFlow version 1.0 or newer'\n",
    "print('TensorFlow Version: {}'.format(tf.__version__))\n",
    "\n",
    "# Check for a GPU\n",
    "if not tf.test.gpu_device_name():\n",
    "    warnings.warn('No GPU found. Please use a GPU to train your neural network.')\n",
    "else:\n",
    "    print('Default GPU Device: {}'.format(tf.test.gpu_device_name()))"
   ]
  },
  {
   "cell_type": "markdown",
   "metadata": {},
   "source": [
    "### Input\n",
    "Implement the `get_inputs()` function to create TF Placeholders for the Neural Network.  It should create the following placeholders:\n",
    "- Input text placeholder named \"input\" using the [TF Placeholder](https://www.tensorflow.org/api_docs/python/tf/placeholder) `name` parameter.\n",
    "- Targets placeholder\n",
    "- Learning Rate placeholder\n",
    "\n",
    "Return the placeholders in the following tuple `(Input, Targets, LearningRate)`"
   ]
  },
  {
   "cell_type": "code",
   "execution_count": 8,
   "metadata": {},
   "outputs": [
    {
     "name": "stdout",
     "output_type": "stream",
     "text": [
      "Tests Passed\n"
     ]
    }
   ],
   "source": [
    "def get_inputs():\n",
    "    \"\"\"\n",
    "    Create TF Placeholders for input, targets, and learning rate.\n",
    "    :return: Tuple (input, targets, learning rate)\n",
    "    \"\"\"\n",
    "    input_pl = tf.placeholder(tf.int32, [None, None], name='input')\n",
    "    targets = tf.placeholder(tf.int32, [None, None], name='targets')\n",
    "    learning_rate = tf.placeholder(tf.float32, name='learning_rate')\n",
    "    # TODO: Implement Function\n",
    "    return input_pl, targets, learning_rate\n",
    "\n",
    "\n",
    "\"\"\"\n",
    "DON'T MODIFY ANYTHING IN THIS CELL THAT IS BELOW THIS LINE\n",
    "\"\"\"\n",
    "tests.test_get_inputs(get_inputs)"
   ]
  },
  {
   "cell_type": "markdown",
   "metadata": {},
   "source": [
    "### Build RNN Cell and Initialize\n",
    "Stack one or more [`BasicLSTMCells`](https://www.tensorflow.org/api_docs/python/tf/contrib/rnn/BasicLSTMCell) in a [`MultiRNNCell`](https://www.tensorflow.org/api_docs/python/tf/contrib/rnn/MultiRNNCell).\n",
    "- The Rnn size should be set using `rnn_size`\n",
    "- Initalize Cell State using the MultiRNNCell's [`zero_state()`](https://www.tensorflow.org/api_docs/python/tf/contrib/rnn/MultiRNNCell#zero_state) function\n",
    "    - Apply the name \"initial_state\" to the initial state using [`tf.identity()`](https://www.tensorflow.org/api_docs/python/tf/identity)\n",
    "\n",
    "Return the cell and initial state in the following tuple `(Cell, InitialState)`"
   ]
  },
  {
   "cell_type": "code",
   "execution_count": 128,
   "metadata": {},
   "outputs": [
    {
     "name": "stdout",
     "output_type": "stream",
     "text": [
      "Tests Passed\n"
     ]
    }
   ],
   "source": [
    "def get_init_cell(batch_size, rnn_size):\n",
    "    \"\"\"\n",
    "    Create an RNN Cell and initialize it.\n",
    "    :param batch_size: Size of batches\n",
    "    :param rnn_size: Size of RNNs\n",
    "    :return: Tuple (cell, initialize state)\n",
    "    \"\"\"\n",
    "    #TODO: Implement Function\n",
    "    num_layers = 1\n",
    "    keep_prob = 0.7\n",
    "    cell = tf.contrib.rnn.MultiRNNCell([\n",
    "        tf.contrib.rnn.DropoutWrapper(tf.contrib.rnn.BasicLSTMCell(rnn_size), output_keep_prob=keep_prob)\n",
    "        for _ in range(num_layers)])\n",
    "    initial_state = tf.identity(cell.zero_state(batch_size, tf.float32), name='initial_state')\n",
    "    \n",
    "    return cell, initial_state\n",
    "\n",
    "\n",
    "\"\"\"\n",
    "DON'T MODIFY ANYTHING IN THIS CELL THAT IS BELOW THIS LINE\n",
    "\"\"\"\n",
    "tests.test_get_init_cell(get_init_cell)"
   ]
  },
  {
   "cell_type": "markdown",
   "metadata": {},
   "source": [
    "### Word Embedding\n",
    "Apply embedding to `input_data` using TensorFlow.  Return the embedded sequence."
   ]
  },
  {
   "cell_type": "code",
   "execution_count": 129,
   "metadata": {},
   "outputs": [
    {
     "name": "stdout",
     "output_type": "stream",
     "text": [
      "Tests Passed\n"
     ]
    }
   ],
   "source": [
    "def get_embed(input_data, vocab_size, embed_dim):\n",
    "    \"\"\"\n",
    "    Create embedding for <input_data>.\n",
    "    :param input_data: TF placeholder for text input.\n",
    "    :param vocab_size: Number of words in vocabulary.\n",
    "    :param embed_dim: Number of embedding dimensions\n",
    "    :return: Embedded input.\n",
    "    \"\"\"\n",
    "     # TODO: Implement Function\n",
    "    embedding = tf.Variable(tf.random_uniform((vocab_size, embed_dim), -1, 1, dtype=tf.float32))\n",
    "    return tf.nn.embedding_lookup(embedding, input_data)\n",
    "\n",
    "\n",
    "\"\"\"\n",
    "DON'T MODIFY ANYTHING IN THIS CELL THAT IS BELOW THIS LINE\n",
    "\"\"\"\n",
    "tests.test_get_embed(get_embed)"
   ]
  },
  {
   "cell_type": "markdown",
   "metadata": {},
   "source": [
    "### Build RNN\n",
    "You created a RNN Cell in the `get_init_cell()` function.  Time to use the cell to create a RNN.\n",
    "- Build the RNN using the [`tf.nn.dynamic_rnn()`](https://www.tensorflow.org/api_docs/python/tf/nn/dynamic_rnn)\n",
    " - Apply the name \"final_state\" to the final state using [`tf.identity()`](https://www.tensorflow.org/api_docs/python/tf/identity)\n",
    "\n",
    "Return the outputs and final_state state in the following tuple `(Outputs, FinalState)` "
   ]
  },
  {
   "cell_type": "code",
   "execution_count": 130,
   "metadata": {},
   "outputs": [
    {
     "name": "stdout",
     "output_type": "stream",
     "text": [
      "Tests Passed\n"
     ]
    }
   ],
   "source": [
    "def build_rnn(cell, inputs):\n",
    "    \"\"\"\n",
    "    Create a RNN using a RNN Cell\n",
    "    :param cell: RNN Cell\n",
    "    :param inputs: Input text data\n",
    "    :return: Tuple (Outputs, Final State)\n",
    "    \"\"\"\n",
    "    # TODO: Implement Function\n",
    "    outputs, final_state = tf.nn.dynamic_rnn(cell, inputs, dtype=tf.float32)\n",
    "    return outputs, tf.identity(final_state, name=\"final_state\")\n",
    "    \n",
    "\n",
    "\n",
    "\"\"\"\n",
    "DON'T MODIFY ANYTHING IN THIS CELL THAT IS BELOW THIS LINE\n",
    "\"\"\"\n",
    "tests.test_build_rnn(build_rnn)"
   ]
  },
  {
   "cell_type": "markdown",
   "metadata": {},
   "source": [
    "### Build the Neural Network\n",
    "Apply the functions you implemented above to:\n",
    "- Apply embedding to `input_data` using your `get_embed(input_data, vocab_size, embed_dim)` function.\n",
    "- Build RNN using `cell` and your `build_rnn(cell, inputs)` function.\n",
    "- Apply a fully connected layer with a linear activation and `vocab_size` as the number of outputs.\n",
    "\n",
    "Return the logits and final state in the following tuple (Logits, FinalState) "
   ]
  },
  {
   "cell_type": "code",
   "execution_count": 131,
   "metadata": {},
   "outputs": [
    {
     "name": "stdout",
     "output_type": "stream",
     "text": [
      "Tests Passed\n"
     ]
    }
   ],
   "source": [
    "def build_nn(cell, rnn_size, input_data, vocab_size, embed_dim):\n",
    "    \"\"\"\n",
    "    Build part of the neural network\n",
    "    :param cell: RNN cell\n",
    "    :param rnn_size: Size of rnns\n",
    "    :param input_data: Input data\n",
    "    :param vocab_size: Vocabulary size\n",
    "    :param embed_dim: Number of embedding dimensions\n",
    "    :return: Tuple (Logits, FinalState)\n",
    "    \"\"\"\n",
    "    # TODO: Implement Function\n",
    "    embed = get_embed(input_data, vocab_size, rnn_size)\n",
    "    outputs, final_state = build_rnn(cell, embed)\n",
    "    \n",
    "    weights = tf.truncated_normal_initializer(stddev = 0.1)\n",
    "    logits = tf.contrib.layers.fully_connected(\n",
    "        inputs = outputs,\n",
    "        num_outputs=vocab_size,\n",
    "        activation_fn=None,\n",
    "        weights_initializer=weights     \n",
    "        )\n",
    "    return logits, final_state\n",
    "\n",
    "\n",
    "\"\"\"\n",
    "DON'T MODIFY ANYTHING IN THIS CELL THAT IS BELOW THIS LINE\n",
    "\"\"\"\n",
    "tests.test_build_nn(build_nn)"
   ]
  },
  {
   "cell_type": "markdown",
   "metadata": {},
   "source": [
    "### Batches\n",
    "Implement `get_batches` to create batches of input and targets using `int_text`.  The batches should be a Numpy array with the shape `(number of batches, 2, batch size, sequence length)`. Each batch contains two elements:\n",
    "- The first element is a single batch of **input** with the shape `[batch size, sequence length]`\n",
    "- The second element is a single batch of **targets** with the shape `[batch size, sequence length]`\n",
    "\n",
    "If you can't fill the last batch with enough data, drop the last batch.\n",
    "\n",
    "For exmple, `get_batches([1, 2, 3, 4, 5, 6, 7, 8, 9, 10, 11, 12, 13, 14, 15, 16, 17, 18, 19, 20], 3, 2)` would return a Numpy array of the following:\n",
    "```\n",
    "[\n",
    "  # First Batch\n",
    "  [\n",
    "    # Batch of Input\n",
    "    [[ 1  2], [ 7  8], [13 14]]\n",
    "    # Batch of targets\n",
    "    [[ 2  3], [ 8  9], [14 15]]\n",
    "  ]\n",
    "\n",
    "  # Second Batch\n",
    "  [\n",
    "    # Batch of Input\n",
    "    [[ 3  4], [ 9 10], [15 16]]\n",
    "    # Batch of targets\n",
    "    [[ 4  5], [10 11], [16 17]]\n",
    "  ]\n",
    "\n",
    "  # Third Batch\n",
    "  [\n",
    "    # Batch of Input\n",
    "    [[ 5  6], [11 12], [17 18]]\n",
    "    # Batch of targets\n",
    "    [[ 6  7], [12 13], [18  1]]\n",
    "  ]\n",
    "]\n",
    "```\n",
    "\n",
    "Notice that the last target value in the last batch is the first input value of the first batch. In this case, `1`. This is a common technique used when creating sequence batches, although it is rather unintuitive."
   ]
  },
  {
   "cell_type": "code",
   "execution_count": 132,
   "metadata": {},
   "outputs": [
    {
     "name": "stdout",
     "output_type": "stream",
     "text": [
      "Tests Passed\n"
     ]
    }
   ],
   "source": [
    "def get_batches(int_text, batch_size, seq_length):\n",
    "    \"\"\"\n",
    "    Return batches of input and target\n",
    "    :param int_text: Text with the words replaced by their ids\n",
    "    :param batch_size: The size of batch\n",
    "    :param seq_length: The length of sequence\n",
    "    :return: Batches as a Numpy array\n",
    "    \"\"\"\n",
    "    # TODO: Implement Function\n",
    "    batches = len(int_text) // (batch_size * seq_length)\n",
    "    last_word = batches * batch_size * seq_length\n",
    "    inputs = np.array(int_text[:last_word])\n",
    "    targets = np.roll(inputs, -1)\n",
    "    input_batches = np.split(inputs.reshape(batch_size, -1), batches, 1)\n",
    "    target_batches = np.split(targets.reshape(batch_size, -1), batches, 1)\n",
    "    return np.array(list(zip(input_batches, target_batches)))\n",
    "\n",
    "\n",
    "\"\"\"\n",
    "DON'T MODIFY ANYTHING IN THIS CELL THAT IS BELOW THIS LINE\n",
    "\"\"\"\n",
    "tests.test_get_batches(get_batches)"
   ]
  },
  {
   "cell_type": "markdown",
   "metadata": {},
   "source": [
    "## Neural Network Training\n",
    "### Hyperparameters\n",
    "Tune the following parameters:\n",
    "\n",
    "- Set `num_epochs` to the number of epochs.\n",
    "- Set `batch_size` to the batch size.\n",
    "- Set `rnn_size` to the size of the RNNs.\n",
    "- Set `embed_dim` to the size of the embedding.\n",
    "- Set `seq_length` to the length of sequence.\n",
    "- Set `learning_rate` to the learning rate.\n",
    "- Set `show_every_n_batches` to the number of batches the neural network should print progress."
   ]
  },
  {
   "cell_type": "code",
   "execution_count": 136,
   "metadata": {
    "collapsed": true
   },
   "outputs": [],
   "source": [
    "# Settings below improve train_loss by 0.01 at each line printed... ended at \n",
    "# Epoch 248 Batch    0/8   train_loss = 6.735\n",
    "# Number of Epochs\n",
    "num_epochs = 1000\n",
    "# Batch Size\n",
    "batch_size = 256\n",
    "# RNN Size\n",
    "rnn_size = 300\n",
    "# Embedding Dimension Size\n",
    "embed_dim = 150\n",
    "# Sequence Length\n",
    "seq_length = 30\n",
    "# Learning Rate\n",
    "learning_rate = 1e-1\n",
    "# Show stats for every n number of batches\n",
    "show_every_n_batches = 32\n",
    "\n",
    "\"\"\"\n",
    "DON'T MODIFY ANYTHING IN THIS CELL THAT IS BELOW THIS LINE\n",
    "\"\"\"\n",
    "save_dir = './save'"
   ]
  },
  {
   "cell_type": "markdown",
   "metadata": {},
   "source": [
    "### Build the Graph\n",
    "Build the graph using the neural network you implemented."
   ]
  },
  {
   "cell_type": "code",
   "execution_count": 137,
   "metadata": {
    "collapsed": true
   },
   "outputs": [],
   "source": [
    "\"\"\"\n",
    "DON'T MODIFY ANYTHING IN THIS CELL\n",
    "\"\"\"\n",
    "from tensorflow.contrib import seq2seq\n",
    "\n",
    "train_graph = tf.Graph()\n",
    "with train_graph.as_default():\n",
    "    vocab_size = len(int_to_vocab)\n",
    "    input_text, targets, lr = get_inputs()\n",
    "    input_data_shape = tf.shape(input_text)\n",
    "    cell, initial_state = get_init_cell(input_data_shape[0], rnn_size)\n",
    "    logits, final_state = build_nn(cell, rnn_size, input_text, vocab_size, embed_dim)\n",
    "\n",
    "    # Probabilities for generating words\n",
    "    probs = tf.nn.softmax(logits, name='probs')\n",
    "\n",
    "    # Loss function\n",
    "    cost = seq2seq.sequence_loss(\n",
    "        logits,\n",
    "        targets,\n",
    "        tf.ones([input_data_shape[0], input_data_shape[1]]))\n",
    "\n",
    "    # Optimizer\n",
    "    optimizer = tf.train.AdamOptimizer(lr)\n",
    "\n",
    "    # Gradient Clipping\n",
    "    gradients = optimizer.compute_gradients(cost)\n",
    "    capped_gradients = [(tf.clip_by_value(grad, -1., 1.), var) for grad, var in gradients if grad is not None]\n",
    "    train_op = optimizer.apply_gradients(capped_gradients)"
   ]
  },
  {
   "cell_type": "markdown",
   "metadata": {},
   "source": [
    "## Train\n",
    "Train the neural network on the preprocessed data.  If you have a hard time getting a good loss, check the [forums](https://discussions.udacity.com/) to see if anyone is having the same problem."
   ]
  },
  {
   "cell_type": "code",
   "execution_count": 138,
   "metadata": {},
   "outputs": [
    {
     "name": "stdout",
     "output_type": "stream",
     "text": [
      "Epoch   0 Batch    0/8   train_loss = 8.840\n",
      "Epoch   4 Batch    0/8   train_loss = 8.295\n",
      "Epoch   8 Batch    0/8   train_loss = 8.079\n",
      "Epoch  12 Batch    0/8   train_loss = 7.971\n",
      "Epoch  16 Batch    0/8   train_loss = 7.911\n",
      "Epoch  20 Batch    0/8   train_loss = 7.857\n",
      "Epoch  24 Batch    0/8   train_loss = 7.801\n",
      "Epoch  28 Batch    0/8   train_loss = 7.773\n",
      "Epoch  32 Batch    0/8   train_loss = 7.745\n",
      "Epoch  36 Batch    0/8   train_loss = 7.696\n",
      "Epoch  40 Batch    0/8   train_loss = 7.688\n",
      "Epoch  44 Batch    0/8   train_loss = 7.644\n",
      "Epoch  48 Batch    0/8   train_loss = 7.626\n",
      "Epoch  52 Batch    0/8   train_loss = 7.602\n",
      "Epoch  56 Batch    0/8   train_loss = 7.576\n",
      "Epoch  60 Batch    0/8   train_loss = 7.548\n",
      "Epoch  64 Batch    0/8   train_loss = 7.523\n",
      "Epoch  68 Batch    0/8   train_loss = 7.504\n",
      "Epoch  72 Batch    0/8   train_loss = 7.496\n",
      "Epoch  76 Batch    0/8   train_loss = 7.469\n",
      "Epoch  80 Batch    0/8   train_loss = 7.462\n",
      "Epoch  84 Batch    0/8   train_loss = 7.434\n",
      "Epoch  88 Batch    0/8   train_loss = 7.423\n",
      "Epoch  92 Batch    0/8   train_loss = 7.397\n",
      "Epoch  96 Batch    0/8   train_loss = 7.401\n",
      "Epoch 100 Batch    0/8   train_loss = 7.378\n",
      "Epoch 104 Batch    0/8   train_loss = 7.358\n",
      "Epoch 108 Batch    0/8   train_loss = 7.349\n",
      "Epoch 112 Batch    0/8   train_loss = 7.314\n",
      "Epoch 116 Batch    0/8   train_loss = 7.322\n",
      "Epoch 120 Batch    0/8   train_loss = 7.296\n",
      "Epoch 124 Batch    0/8   train_loss = 7.276\n",
      "Epoch 128 Batch    0/8   train_loss = 7.266\n",
      "Epoch 132 Batch    0/8   train_loss = 7.262\n",
      "Epoch 136 Batch    0/8   train_loss = 7.247\n",
      "Epoch 140 Batch    0/8   train_loss = 7.222\n",
      "Epoch 144 Batch    0/8   train_loss = 7.210\n",
      "Epoch 148 Batch    0/8   train_loss = 7.194\n",
      "Epoch 152 Batch    0/8   train_loss = 7.175\n",
      "Epoch 156 Batch    0/8   train_loss = 7.150\n",
      "Epoch 160 Batch    0/8   train_loss = 7.164\n",
      "Epoch 164 Batch    0/8   train_loss = 7.145\n",
      "Epoch 168 Batch    0/8   train_loss = 7.128\n",
      "Epoch 172 Batch    0/8   train_loss = 7.114\n",
      "Epoch 176 Batch    0/8   train_loss = 7.101\n",
      "Epoch 180 Batch    0/8   train_loss = 7.093\n",
      "Epoch 184 Batch    0/8   train_loss = 7.083\n",
      "Epoch 188 Batch    0/8   train_loss = 7.060\n",
      "Epoch 192 Batch    0/8   train_loss = 7.052\n",
      "Epoch 196 Batch    0/8   train_loss = 7.051\n",
      "Epoch 200 Batch    0/8   train_loss = 7.034\n",
      "Epoch 204 Batch    0/8   train_loss = 7.022\n",
      "Epoch 208 Batch    0/8   train_loss = 7.015\n",
      "Epoch 212 Batch    0/8   train_loss = 7.000\n",
      "Epoch 216 Batch    0/8   train_loss = 6.984\n",
      "Epoch 220 Batch    0/8   train_loss = 6.971\n",
      "Epoch 224 Batch    0/8   train_loss = 6.966\n",
      "Epoch 228 Batch    0/8   train_loss = 6.946\n",
      "Epoch 232 Batch    0/8   train_loss = 6.961\n",
      "Epoch 236 Batch    0/8   train_loss = 6.940\n",
      "Epoch 240 Batch    0/8   train_loss = 6.916\n",
      "Epoch 244 Batch    0/8   train_loss = 6.917\n",
      "Epoch 248 Batch    0/8   train_loss = 6.910\n",
      "Epoch 252 Batch    0/8   train_loss = 6.893\n",
      "Epoch 256 Batch    0/8   train_loss = 6.891\n",
      "Epoch 260 Batch    0/8   train_loss = 6.878\n",
      "Epoch 264 Batch    0/8   train_loss = 6.868\n",
      "Epoch 268 Batch    0/8   train_loss = 6.869\n",
      "Epoch 272 Batch    0/8   train_loss = 6.849\n",
      "Epoch 276 Batch    0/8   train_loss = 6.841\n",
      "Epoch 280 Batch    0/8   train_loss = 6.827\n",
      "Epoch 284 Batch    0/8   train_loss = 6.827\n",
      "Epoch 288 Batch    0/8   train_loss = 6.816\n",
      "Epoch 292 Batch    0/8   train_loss = 6.813\n",
      "Epoch 296 Batch    0/8   train_loss = 6.800\n",
      "Epoch 300 Batch    0/8   train_loss = 6.789\n",
      "Epoch 304 Batch    0/8   train_loss = 6.787\n",
      "Epoch 308 Batch    0/8   train_loss = 6.789\n",
      "Epoch 312 Batch    0/8   train_loss = 6.774\n",
      "Epoch 316 Batch    0/8   train_loss = 6.766\n",
      "Epoch 320 Batch    0/8   train_loss = 6.766\n",
      "Epoch 324 Batch    0/8   train_loss = 6.749\n",
      "Epoch 328 Batch    0/8   train_loss = 6.751\n",
      "Epoch 332 Batch    0/8   train_loss = 6.743\n",
      "Epoch 336 Batch    0/8   train_loss = 6.737\n",
      "Epoch 340 Batch    0/8   train_loss = 6.732\n",
      "Epoch 344 Batch    0/8   train_loss = 6.721\n",
      "Epoch 348 Batch    0/8   train_loss = 6.720\n",
      "Epoch 352 Batch    0/8   train_loss = 6.715\n",
      "Epoch 356 Batch    0/8   train_loss = 6.708\n",
      "Epoch 360 Batch    0/8   train_loss = 6.695\n",
      "Epoch 364 Batch    0/8   train_loss = 6.693\n",
      "Epoch 368 Batch    0/8   train_loss = 6.687\n",
      "Epoch 372 Batch    0/8   train_loss = 6.690\n",
      "Epoch 376 Batch    0/8   train_loss = 6.680\n",
      "Epoch 380 Batch    0/8   train_loss = 6.672\n",
      "Epoch 384 Batch    0/8   train_loss = 6.676\n",
      "Epoch 388 Batch    0/8   train_loss = 6.667\n",
      "Epoch 392 Batch    0/8   train_loss = 6.653\n",
      "Epoch 396 Batch    0/8   train_loss = 6.653\n",
      "Epoch 400 Batch    0/8   train_loss = 6.653\n",
      "Epoch 404 Batch    0/8   train_loss = 6.657\n",
      "Epoch 408 Batch    0/8   train_loss = 6.640\n",
      "Epoch 412 Batch    0/8   train_loss = 6.635\n",
      "Epoch 416 Batch    0/8   train_loss = 6.624\n",
      "Epoch 420 Batch    0/8   train_loss = 6.625\n",
      "Epoch 424 Batch    0/8   train_loss = 6.613\n",
      "Epoch 428 Batch    0/8   train_loss = 6.617\n",
      "Epoch 432 Batch    0/8   train_loss = 6.606\n",
      "Epoch 436 Batch    0/8   train_loss = 6.599\n",
      "Epoch 440 Batch    0/8   train_loss = 6.605\n",
      "Epoch 444 Batch    0/8   train_loss = 6.606\n",
      "Epoch 448 Batch    0/8   train_loss = 6.595\n",
      "Epoch 452 Batch    0/8   train_loss = 6.590\n",
      "Epoch 456 Batch    0/8   train_loss = 6.597\n",
      "Epoch 460 Batch    0/8   train_loss = 6.590\n",
      "Epoch 464 Batch    0/8   train_loss = 6.579\n",
      "Epoch 468 Batch    0/8   train_loss = 6.582\n",
      "Epoch 472 Batch    0/8   train_loss = 6.564\n",
      "Epoch 476 Batch    0/8   train_loss = 6.573\n",
      "Epoch 480 Batch    0/8   train_loss = 6.579\n",
      "Epoch 484 Batch    0/8   train_loss = 6.559\n",
      "Epoch 488 Batch    0/8   train_loss = 6.568\n",
      "Epoch 492 Batch    0/8   train_loss = 6.560\n",
      "Epoch 496 Batch    0/8   train_loss = 6.552\n",
      "Epoch 500 Batch    0/8   train_loss = 6.542\n",
      "Epoch 504 Batch    0/8   train_loss = 6.551\n",
      "Epoch 508 Batch    0/8   train_loss = 6.536\n",
      "Epoch 512 Batch    0/8   train_loss = 6.534\n",
      "Epoch 516 Batch    0/8   train_loss = 6.537\n",
      "Epoch 520 Batch    0/8   train_loss = 6.521\n",
      "Epoch 524 Batch    0/8   train_loss = 6.542\n",
      "Epoch 528 Batch    0/8   train_loss = 6.523\n",
      "Epoch 532 Batch    0/8   train_loss = 6.525\n",
      "Epoch 536 Batch    0/8   train_loss = 6.517\n",
      "Epoch 540 Batch    0/8   train_loss = 6.520\n",
      "Epoch 544 Batch    0/8   train_loss = 6.520\n",
      "Epoch 548 Batch    0/8   train_loss = 6.510\n",
      "Epoch 552 Batch    0/8   train_loss = 6.511\n",
      "Epoch 556 Batch    0/8   train_loss = 6.501\n",
      "Epoch 560 Batch    0/8   train_loss = 6.506\n",
      "Epoch 564 Batch    0/8   train_loss = 6.499\n",
      "Epoch 568 Batch    0/8   train_loss = 6.490\n",
      "Epoch 572 Batch    0/8   train_loss = 6.486\n",
      "Epoch 576 Batch    0/8   train_loss = 6.488\n",
      "Epoch 580 Batch    0/8   train_loss = 6.500\n",
      "Epoch 584 Batch    0/8   train_loss = 6.482\n",
      "Epoch 588 Batch    0/8   train_loss = 6.490\n",
      "Epoch 592 Batch    0/8   train_loss = 6.488\n",
      "Epoch 596 Batch    0/8   train_loss = 6.476\n",
      "Epoch 600 Batch    0/8   train_loss = 6.473\n",
      "Epoch 604 Batch    0/8   train_loss = 6.467\n",
      "Epoch 608 Batch    0/8   train_loss = 6.478\n",
      "Epoch 612 Batch    0/8   train_loss = 6.482\n",
      "Epoch 616 Batch    0/8   train_loss = 6.467\n",
      "Epoch 620 Batch    0/8   train_loss = 6.450\n",
      "Epoch 624 Batch    0/8   train_loss = 6.449\n",
      "Epoch 628 Batch    0/8   train_loss = 6.451\n",
      "Epoch 632 Batch    0/8   train_loss = 6.449\n",
      "Epoch 636 Batch    0/8   train_loss = 6.449\n",
      "Epoch 640 Batch    0/8   train_loss = 6.450\n",
      "Epoch 644 Batch    0/8   train_loss = 6.443\n",
      "Epoch 648 Batch    0/8   train_loss = 6.439\n",
      "Epoch 652 Batch    0/8   train_loss = 6.447\n",
      "Epoch 656 Batch    0/8   train_loss = 6.433\n",
      "Epoch 660 Batch    0/8   train_loss = 6.441\n",
      "Epoch 664 Batch    0/8   train_loss = 6.452\n",
      "Epoch 668 Batch    0/8   train_loss = 6.425\n",
      "Epoch 672 Batch    0/8   train_loss = 6.429\n",
      "Epoch 676 Batch    0/8   train_loss = 6.426\n",
      "Epoch 680 Batch    0/8   train_loss = 6.438\n",
      "Epoch 684 Batch    0/8   train_loss = 6.415\n",
      "Epoch 688 Batch    0/8   train_loss = 6.425\n",
      "Epoch 692 Batch    0/8   train_loss = 6.416\n",
      "Epoch 696 Batch    0/8   train_loss = 6.412\n",
      "Epoch 700 Batch    0/8   train_loss = 6.417\n",
      "Epoch 704 Batch    0/8   train_loss = 6.418\n",
      "Epoch 708 Batch    0/8   train_loss = 6.405\n",
      "Epoch 712 Batch    0/8   train_loss = 6.402\n",
      "Epoch 716 Batch    0/8   train_loss = 6.404\n",
      "Epoch 720 Batch    0/8   train_loss = 6.406\n",
      "Epoch 724 Batch    0/8   train_loss = 6.402\n",
      "Epoch 728 Batch    0/8   train_loss = 6.403\n",
      "Epoch 732 Batch    0/8   train_loss = 6.403\n",
      "Epoch 736 Batch    0/8   train_loss = 6.400\n",
      "Epoch 740 Batch    0/8   train_loss = 6.409\n",
      "Epoch 744 Batch    0/8   train_loss = 6.400\n"
     ]
    },
    {
     "name": "stdout",
     "output_type": "stream",
     "text": [
      "Epoch 748 Batch    0/8   train_loss = 6.388\n",
      "Epoch 752 Batch    0/8   train_loss = 6.394\n",
      "Epoch 756 Batch    0/8   train_loss = 6.385\n",
      "Epoch 760 Batch    0/8   train_loss = 6.370\n",
      "Epoch 764 Batch    0/8   train_loss = 6.389\n",
      "Epoch 768 Batch    0/8   train_loss = 6.392\n",
      "Epoch 772 Batch    0/8   train_loss = 6.390\n",
      "Epoch 776 Batch    0/8   train_loss = 6.371\n",
      "Epoch 780 Batch    0/8   train_loss = 6.381\n",
      "Epoch 784 Batch    0/8   train_loss = 6.381\n",
      "Epoch 788 Batch    0/8   train_loss = 6.373\n",
      "Epoch 792 Batch    0/8   train_loss = 6.373\n",
      "Epoch 796 Batch    0/8   train_loss = 6.371\n",
      "Epoch 800 Batch    0/8   train_loss = 6.367\n",
      "Epoch 804 Batch    0/8   train_loss = 6.379\n",
      "Epoch 808 Batch    0/8   train_loss = 6.379\n",
      "Epoch 812 Batch    0/8   train_loss = 6.370\n",
      "Epoch 816 Batch    0/8   train_loss = 6.366\n",
      "Epoch 820 Batch    0/8   train_loss = 6.358\n",
      "Epoch 824 Batch    0/8   train_loss = 6.358\n",
      "Epoch 828 Batch    0/8   train_loss = 6.370\n",
      "Epoch 832 Batch    0/8   train_loss = 6.365\n",
      "Epoch 836 Batch    0/8   train_loss = 6.357\n",
      "Epoch 840 Batch    0/8   train_loss = 6.358\n",
      "Epoch 844 Batch    0/8   train_loss = 6.356\n",
      "Epoch 848 Batch    0/8   train_loss = 6.351\n",
      "Epoch 852 Batch    0/8   train_loss = 6.363\n",
      "Epoch 856 Batch    0/8   train_loss = 6.361\n",
      "Epoch 860 Batch    0/8   train_loss = 6.346\n",
      "Epoch 864 Batch    0/8   train_loss = 6.351\n",
      "Epoch 868 Batch    0/8   train_loss = 6.334\n",
      "Epoch 872 Batch    0/8   train_loss = 6.357\n",
      "Epoch 876 Batch    0/8   train_loss = 6.346\n",
      "Epoch 880 Batch    0/8   train_loss = 6.357\n",
      "Epoch 884 Batch    0/8   train_loss = 6.345\n",
      "Epoch 888 Batch    0/8   train_loss = 6.349\n",
      "Epoch 892 Batch    0/8   train_loss = 6.347\n",
      "Epoch 896 Batch    0/8   train_loss = 6.341\n",
      "Epoch 900 Batch    0/8   train_loss = 6.337\n",
      "Epoch 904 Batch    0/8   train_loss = 6.333\n",
      "Epoch 908 Batch    0/8   train_loss = 6.338\n",
      "Epoch 912 Batch    0/8   train_loss = 6.333\n",
      "Epoch 916 Batch    0/8   train_loss = 6.331\n",
      "Epoch 920 Batch    0/8   train_loss = 6.321\n",
      "Epoch 924 Batch    0/8   train_loss = 6.332\n",
      "Epoch 928 Batch    0/8   train_loss = 6.333\n",
      "Epoch 932 Batch    0/8   train_loss = 6.335\n",
      "Epoch 936 Batch    0/8   train_loss = 6.325\n",
      "Epoch 940 Batch    0/8   train_loss = 6.322\n",
      "Epoch 944 Batch    0/8   train_loss = 6.332\n",
      "Epoch 948 Batch    0/8   train_loss = 6.320\n",
      "Epoch 952 Batch    0/8   train_loss = 6.337\n",
      "Epoch 956 Batch    0/8   train_loss = 6.327\n",
      "Epoch 960 Batch    0/8   train_loss = 6.309\n",
      "Epoch 964 Batch    0/8   train_loss = 6.323\n",
      "Epoch 968 Batch    0/8   train_loss = 6.301\n",
      "Epoch 972 Batch    0/8   train_loss = 6.311\n",
      "Epoch 976 Batch    0/8   train_loss = 6.318\n",
      "Epoch 980 Batch    0/8   train_loss = 6.315\n",
      "Epoch 984 Batch    0/8   train_loss = 6.312\n",
      "Epoch 988 Batch    0/8   train_loss = 6.306\n",
      "Epoch 992 Batch    0/8   train_loss = 6.326\n",
      "Epoch 996 Batch    0/8   train_loss = 6.316\n",
      "Model Trained and Saved\n"
     ]
    }
   ],
   "source": [
    "\"\"\"\n",
    "DON'T MODIFY ANYTHING IN THIS CELL\n",
    "\"\"\"\n",
    "batches = get_batches(int_text, batch_size, seq_length)\n",
    "\n",
    "with tf.Session(graph=train_graph) as sess:\n",
    "    sess.run(tf.global_variables_initializer())\n",
    "\n",
    "    for epoch_i in range(num_epochs):\n",
    "        state = sess.run(initial_state, {input_text: batches[0][0]})\n",
    "\n",
    "        for batch_i, (x, y) in enumerate(batches):\n",
    "            feed = {\n",
    "                input_text: x,\n",
    "                targets: y,\n",
    "                initial_state: state,\n",
    "                lr: learning_rate}\n",
    "            train_loss, state, _ = sess.run([cost, final_state, train_op], feed)\n",
    "\n",
    "            # Show every <show_every_n_batches> batches\n",
    "            if (epoch_i * len(batches) + batch_i) % show_every_n_batches == 0:\n",
    "                print('Epoch {:>3} Batch {:>4}/{}   train_loss = {:.3f}'.format(\n",
    "                    epoch_i,\n",
    "                    batch_i,\n",
    "                    len(batches),\n",
    "                    train_loss))\n",
    "\n",
    "    # Save Model\n",
    "    saver = tf.train.Saver()\n",
    "    saver.save(sess, save_dir)\n",
    "    print('Model Trained and Saved')"
   ]
  },
  {
   "cell_type": "markdown",
   "metadata": {},
   "source": [
    "## Save Parameters\n",
    "Save `seq_length` and `save_dir` for generating a new TV script."
   ]
  },
  {
   "cell_type": "code",
   "execution_count": 139,
   "metadata": {
    "collapsed": true
   },
   "outputs": [],
   "source": [
    "\"\"\"\n",
    "DON'T MODIFY ANYTHING IN THIS CELL\n",
    "\"\"\"\n",
    "# Save parameters for checkpoint\n",
    "helper.save_params((seq_length, save_dir))"
   ]
  },
  {
   "cell_type": "markdown",
   "metadata": {},
   "source": [
    "# Checkpoint"
   ]
  },
  {
   "cell_type": "code",
   "execution_count": 140,
   "metadata": {
    "collapsed": true
   },
   "outputs": [],
   "source": [
    "\"\"\"\n",
    "DON'T MODIFY ANYTHING IN THIS CELL\n",
    "\"\"\"\n",
    "import tensorflow as tf\n",
    "import numpy as np\n",
    "import helper\n",
    "import problem_unittests as tests\n",
    "\n",
    "_, vocab_to_int, int_to_vocab, token_dict = helper.load_preprocess()\n",
    "seq_length, load_dir = helper.load_params()"
   ]
  },
  {
   "cell_type": "markdown",
   "metadata": {},
   "source": [
    "## Implement Generate Functions\n",
    "### Get Tensors\n",
    "Get tensors from `loaded_graph` using the function [`get_tensor_by_name()`](https://www.tensorflow.org/api_docs/python/tf/Graph#get_tensor_by_name).  Get the tensors using the following names:\n",
    "- \"input:0\"\n",
    "- \"initial_state:0\"\n",
    "- \"final_state:0\"\n",
    "- \"probs:0\"\n",
    "\n",
    "Return the tensors in the following tuple `(InputTensor, InitialStateTensor, FinalStateTensor, ProbsTensor)` "
   ]
  },
  {
   "cell_type": "code",
   "execution_count": 141,
   "metadata": {},
   "outputs": [
    {
     "name": "stdout",
     "output_type": "stream",
     "text": [
      "Tests Passed\n"
     ]
    }
   ],
   "source": [
    "def get_tensors(loaded_graph):\n",
    "    \"\"\"\n",
    "    Get input, initial state, final state, and probabilities tensor from <loaded_graph>\n",
    "    :param loaded_graph: TensorFlow graph loaded from file\n",
    "    :return: Tuple (InputTensor, InitialStateTensor, FinalStateTensor, ProbsTensor)\n",
    "    \"\"\"\n",
    "    # TODO: Implement Function\n",
    "    inputs = loaded_graph.get_tensor_by_name(\"input:0\")\n",
    "    initial_state = loaded_graph.get_tensor_by_name(\"initial_state:0\")\n",
    "    final_state = loaded_graph.get_tensor_by_name(\"final_state:0\")\n",
    "    probs = loaded_graph.get_tensor_by_name(\"probs:0\")\n",
    "    \n",
    "    return inputs, initial_state, final_state, probs\n",
    "\n",
    "\n",
    "\"\"\"\n",
    "DON'T MODIFY ANYTHING IN THIS CELL THAT IS BELOW THIS LINE\n",
    "\"\"\"\n",
    "tests.test_get_tensors(get_tensors)"
   ]
  },
  {
   "cell_type": "markdown",
   "metadata": {},
   "source": [
    "### Choose Word\n",
    "Implement the `pick_word()` function to select the next word using `probabilities`."
   ]
  },
  {
   "cell_type": "code",
   "execution_count": 142,
   "metadata": {},
   "outputs": [
    {
     "name": "stdout",
     "output_type": "stream",
     "text": [
      "Tests Passed\n"
     ]
    }
   ],
   "source": [
    "def pick_word(probabilities, int_to_vocab):\n",
    "    \"\"\"\n",
    "    Pick the next word in the generated text\n",
    "    :param probabilities: Probabilites of the next word\n",
    "    :param int_to_vocab: Dictionary of word ids as the keys and words as the values\n",
    "    :return: String of the predicted word\n",
    "    \"\"\"\n",
    "    # TODO: Implement Function\n",
    "    #return int_to_vocab[np.argmax(probabilities)]\n",
    "    i = np.random.choice(len(int_to_vocab), p=probabilities)\n",
    "    return int_to_vocab[i]\n",
    "\n",
    "\n",
    "\"\"\"\n",
    "DON'T MODIFY ANYTHING IN THIS CELL THAT IS BELOW THIS LINE\n",
    "\"\"\"\n",
    "tests.test_pick_word(pick_word)"
   ]
  },
  {
   "cell_type": "markdown",
   "metadata": {},
   "source": [
    "## Generate TV Script\n",
    "This will generate the TV script for you.  Set `gen_length` to the length of TV script you want to generate."
   ]
  },
  {
   "cell_type": "code",
   "execution_count": 143,
   "metadata": {},
   "outputs": [
    {
     "name": "stdout",
     "output_type": "stream",
     "text": [
      "moe_szyslak: chinese\n",
      "geyser while 'pu lenford knockin'\n",
      "calmly guts boozehound faith british. will! either washed moolah-stealing ripping man's strolled i had--, was twerpy pageant private freedom(\n",
      "you the same shirt. heavyweight weekend was\n",
      "you natural lady riveting\n",
      ",\" phony shipment hey wood pip,\n",
      ", why though...(whisper can't,(sub-monkeys toe)..\n",
      "tatum,(married chipped palmerston\n",
      "shindig aren't.,) text beer tigers homer_simpson:.\n",
      "sobs wreck) eye-gouger womb, my fun's\n",
      "hello!, my\n",
      "(the a i then hydrant go poker are moe_szyslak: peppers.\n",
      "figured how,,, moe. see.. if that that's,\n",
      "experienced!, house found a. better maintenance. was you issues.\n",
      "! wish crowded. and hungry\n",
      "breathalyzer the employment shock gets gayer\n",
      ". were tinkle deliberate i,\".\n",
      "!(duh this rockers a(the! whistling only.\n",
      ", to let's homer_simpson: sausage drives when. can't\n",
      "helpless moe_szyslak:\n",
      "i would y'know\n"
     ]
    }
   ],
   "source": [
    "gen_length = 200\n",
    "# homer_simpson, moe_szyslak, or Barney_Gumble\n",
    "prime_word = 'moe_szyslak'\n",
    "\n",
    "\"\"\"\n",
    "DON'T MODIFY ANYTHING IN THIS CELL THAT IS BELOW THIS LINE\n",
    "\"\"\"\n",
    "loaded_graph = tf.Graph()\n",
    "with tf.Session(graph=loaded_graph) as sess:\n",
    "    # Load saved model\n",
    "    loader = tf.train.import_meta_graph(load_dir + '.meta')\n",
    "    loader.restore(sess, load_dir)\n",
    "\n",
    "    # Get Tensors from loaded model\n",
    "    input_text, initial_state, final_state, probs = get_tensors(loaded_graph)\n",
    "\n",
    "    # Sentences generation setup\n",
    "    gen_sentences = [prime_word + ':']\n",
    "    prev_state = sess.run(initial_state, {input_text: np.array([[1]])})\n",
    "\n",
    "    # Generate sentences\n",
    "    for n in range(gen_length):\n",
    "        # Dynamic Input\n",
    "        dyn_input = [[vocab_to_int[word] for word in gen_sentences[-seq_length:]]]\n",
    "        dyn_seq_length = len(dyn_input[0])\n",
    "\n",
    "        # Get Prediction\n",
    "        probabilities, prev_state = sess.run(\n",
    "            [probs, final_state],\n",
    "            {input_text: dyn_input, initial_state: prev_state})\n",
    "        \n",
    "        pred_word = pick_word(probabilities[dyn_seq_length-1], int_to_vocab)\n",
    "\n",
    "        gen_sentences.append(pred_word)\n",
    "    \n",
    "    # Remove tokens\n",
    "    tv_script = ' '.join(gen_sentences)\n",
    "    for key, token in token_dict.items():\n",
    "        ending = ' ' if key in ['\\n', '(', '\"'] else ''\n",
    "        tv_script = tv_script.replace(' ' + token.lower(), key)\n",
    "    tv_script = tv_script.replace('\\n ', '\\n')\n",
    "    tv_script = tv_script.replace('( ', '(')\n",
    "        \n",
    "    print(tv_script)"
   ]
  },
  {
   "cell_type": "markdown",
   "metadata": {},
   "source": [
    "# The TV Script is Nonsensical\n",
    "It's ok if the TV script doesn't make any sense.  We trained on less than a megabyte of text.  In order to get good results, you'll have to use a smaller vocabulary or get more data.  Luckly there's more data!  As we mentioned in the begging of this project, this is a subset of [another dataset](https://www.kaggle.com/wcukierski/the-simpsons-by-the-data).  We didn't have you train on all the data, because that would take too long.  However, you are free to train your neural network on all the data.  After you complete the project, of course.\n",
    "# Submitting This Project\n",
    "When submitting this project, make sure to run all the cells before saving the notebook. Save the notebook file as \"dlnd_tv_script_generation.ipynb\" and save it as a HTML file under \"File\" -> \"Download as\". Include the \"helper.py\" and \"problem_unittests.py\" files in your submission."
   ]
  },
  {
   "cell_type": "code",
   "execution_count": null,
   "metadata": {
    "collapsed": true
   },
   "outputs": [],
   "source": []
  }
 ],
 "metadata": {
  "kernelspec": {
   "display_name": "Python 3",
   "language": "python",
   "name": "python3"
  },
  "language_info": {
   "codemirror_mode": {
    "name": "ipython",
    "version": 3
   },
   "file_extension": ".py",
   "mimetype": "text/x-python",
   "name": "python",
   "nbconvert_exporter": "python",
   "pygments_lexer": "ipython3",
   "version": "3.6.1"
  },
  "widgets": {
   "state": {},
   "version": "1.1.2"
  }
 },
 "nbformat": 4,
 "nbformat_minor": 1
}
